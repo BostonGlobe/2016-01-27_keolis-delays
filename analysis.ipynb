{
 "cells": [
  {
   "cell_type": "code",
   "execution_count": 3,
   "metadata": {
    "collapsed": true
   },
   "outputs": [],
   "source": [
    "import re\n",
    "import os\n",
    "import agate"
   ]
  },
  {
   "cell_type": "code",
   "execution_count": 4,
   "metadata": {
    "collapsed": true
   },
   "outputs": [],
   "source": [
    "inputFile = os.getcwd() + '/delays.txt';\n",
    "lines = open(inputFile).readlines()"
   ]
  },
  {
   "cell_type": "code",
   "execution_count": 17,
   "metadata": {
    "collapsed": false
   },
   "outputs": [],
   "source": [
    "delays = []\n",
    "for line in lines:\n",
    "    trim = line.strip()\n",
    "    has_date = re.search(r'(\\d+/\\d+/\\d+)', trim)\n",
    "    has_time = re.search(r'(\\d+:\\d+)', trim)\n",
    "    split = re.split(' {1,}', trim)\n",
    "\n",
    "    if has_date and has_time and has_date.start() == 0 and len(split) > 2:\n",
    "        date = split[0]\n",
    "        time = split[1] + ' ' + split[2]\n",
    "        datetime = date + ' ' + time\n",
    "        id = split[5]\n",
    "        minutes = split[6]\n",
    "        delays.append((date, time, datetime, id, minutes))        \n",
    "\n",
    "data = agate.Table(delays, column_names=['date', 'time', 'datetime', 'id', 'minutes'], column_types=[agate.Text(), agate.Text(), agate.DateTime(), agate.Text(), agate.Number()])"
   ]
  },
  {
   "cell_type": "code",
   "execution_count": 18,
   "metadata": {
    "collapsed": false
   },
   "outputs": [
    {
     "name": "stdout",
     "output_type": "stream",
     "text": [
      "|---------+----------+---------------------+------+----------|\n",
      "|  date   | time     |            datetime | id   | minutes  |\n",
      "|---------+----------+---------------------+------+----------|\n",
      "|  6/1/15 | 6:00 am  | 2015-06-01 06:00:00 | 2034 |      18  |\n",
      "|  6/1/15 | 7:20 am  | 2015-06-01 07:20:00 | 1059 |      34  |\n",
      "|  6/1/15 | 7:20 am  | 2015-06-01 07:20:00 | 1059 |      34  |\n",
      "|  6/1/15 | 8:40 am  | 2015-06-01 08:40:00 | 010  |      15  |\n",
      "|  6/1/15 | 10:39 am | 2015-06-01 10:39:00 | 2012 |      20  |\n",
      "|  ...    | ...      |                 ... | ...  |     ...  |\n",
      "|---------+----------+---------------------+------+----------|\n"
     ]
    }
   ],
   "source": [
    "data.print_table(max_rows=5)"
   ]
  },
  {
   "cell_type": "code",
   "execution_count": 14,
   "metadata": {
    "collapsed": false
   },
   "outputs": [
    {
     "name": "stdout",
     "output_type": "stream",
     "text": [
      "The median delay is 9 minutes\n"
     ]
    }
   ],
   "source": [
    "median_delay = data.aggregate(agate.Median('minutes'))\n",
    "print('The median delay was %d minutes' % median_delay)"
   ]
  },
  {
   "cell_type": "code",
   "execution_count": 19,
   "metadata": {
    "collapsed": false
   },
   "outputs": [
    {
     "name": "stdout",
     "output_type": "stream",
     "text": [
      "There are 861 total delays\n"
     ]
    }
   ],
   "source": [
    "total_delays = len(data.rows)\n",
    "print('There were %d total delays' % total_delays)"
   ]
  },
  {
   "cell_type": "code",
   "execution_count": 21,
   "metadata": {
    "collapsed": false
   },
   "outputs": [],
   "source": [
    "with_new_trains = data.where(lambda row: row['id'].startswith('2'))"
   ]
  },
  {
   "cell_type": "code",
   "execution_count": 22,
   "metadata": {
    "collapsed": false
   },
   "outputs": [
    {
     "name": "stdout",
     "output_type": "stream",
     "text": [
      "There were 288 delays with new trains\n"
     ]
    }
   ],
   "source": [
    "total_delays_new_trains = len(with_new_trains.rows)\n",
    "print('There were %d delays with new trains' % total_delays_new_trains)"
   ]
  },
  {
   "cell_type": "code",
   "execution_count": 27,
   "metadata": {
    "collapsed": false
   },
   "outputs": [
    {
     "name": "stdout",
     "output_type": "stream",
     "text": [
      "33.45% of delays were with new trains\n"
     ]
    }
   ],
   "source": [
    "percent_new_trains = total_delays_new_trains / total_delays * 100\n",
    "print('%.2f%% of delays were with new trains' % percent_new_trains)"
   ]
  },
  {
   "cell_type": "code",
   "execution_count": null,
   "metadata": {
    "collapsed": true
   },
   "outputs": [],
   "source": []
  }
 ],
 "metadata": {
  "kernelspec": {
   "display_name": "Python 3",
   "language": "python",
   "name": "python3"
  },
  "language_info": {
   "codemirror_mode": {
    "name": "ipython",
    "version": 3
   },
   "file_extension": ".py",
   "mimetype": "text/x-python",
   "name": "python",
   "nbconvert_exporter": "python",
   "pygments_lexer": "ipython3",
   "version": "3.5.1"
  }
 },
 "nbformat": 4,
 "nbformat_minor": 0
}
