{
 "cells": [
  {
   "cell_type": "markdown",
   "metadata": {},
   "source": [
    "# Keolis delays\n",
    "*Russell Goldenberg*\n",
    "\n",
    "On the format: each question is followed by the code that generates the answer. This is also known as [reproducible research](https://en.wikipedia.org/wiki/Reproducibility#Reproducible_research), a practice that’s slowly being adopted by newspapers (e.g. 538, The Upshot).\n"
   ]
  },
  {
   "cell_type": "code",
   "execution_count": 27,
   "metadata": {
    "collapsed": false
   },
   "outputs": [],
   "source": [
    "import re\n",
    "import os\n",
    "import agate"
   ]
  },
  {
   "cell_type": "code",
   "execution_count": 28,
   "metadata": {
    "collapsed": true
   },
   "outputs": [],
   "source": [
    "inputFile = os.getcwd() + '/delays.txt';\n",
    "lines = open(inputFile).readlines()"
   ]
  },
  {
   "cell_type": "code",
   "execution_count": 29,
   "metadata": {
    "collapsed": false
   },
   "outputs": [],
   "source": [
    "delays = []\n",
    "for line in lines:\n",
    "    trim = line.strip()\n",
    "    has_date = re.search(r'(\\d+/\\d+/\\d+)', trim)\n",
    "    has_time = re.search(r'(\\d+:\\d+)', trim)\n",
    "    split = re.split(' {1,}', trim)\n",
    "\n",
    "    if has_date and has_time and has_date.start() == 0 and len(split) > 2:\n",
    "        date = split[0]\n",
    "        time = split[1] + ' ' + split[2]\n",
    "        datetime = date + ' ' + time\n",
    "        id = split[5]\n",
    "        minutes = split[6]\n",
    "        delays.append((date, time, datetime, id, minutes))        \n",
    "\n",
    "data = agate.Table(delays, column_names=['date', 'time', 'datetime', 'id', 'minutes'], column_types=[agate.Text(), agate.Text(), agate.DateTime(), agate.Text(), agate.Number()])"
   ]
  },
  {
   "cell_type": "code",
   "execution_count": 30,
   "metadata": {
    "collapsed": false
   },
   "outputs": [
    {
     "name": "stdout",
     "output_type": "stream",
     "text": [
      "Here is a sample of what the clean data looks like:\n",
      "|---------+----------+---------------------+------+----------|\n",
      "|  date   | time     |            datetime | id   | minutes  |\n",
      "|---------+----------+---------------------+------+----------|\n",
      "|  6/1/15 | 6:00 am  | 2015-06-01 06:00:00 | 2034 |      18  |\n",
      "|  6/1/15 | 7:20 am  | 2015-06-01 07:20:00 | 1059 |      34  |\n",
      "|  6/1/15 | 7:20 am  | 2015-06-01 07:20:00 | 1059 |      34  |\n",
      "|  6/1/15 | 8:40 am  | 2015-06-01 08:40:00 | 010  |      15  |\n",
      "|  6/1/15 | 10:39 am | 2015-06-01 10:39:00 | 2012 |      20  |\n",
      "|  ...    | ...      |                 ... | ...  |     ...  |\n",
      "|---------+----------+---------------------+------+----------|\n"
     ]
    }
   ],
   "source": [
    "print('Here is a sample of what the clean data looks like:')\n",
    "data.print_table(max_rows=5)"
   ]
  },
  {
   "cell_type": "code",
   "execution_count": 41,
   "metadata": {
    "collapsed": false
   },
   "outputs": [
    {
     "name": "stdout",
     "output_type": "stream",
     "text": [
      "There were 861 total delays\n"
     ]
    }
   ],
   "source": [
    "total_delays = len(data.rows)\n",
    "print('There were %d total delays' % total_delays)"
   ]
  },
  {
   "cell_type": "markdown",
   "metadata": {},
   "source": [
    "### How many delays involved new trains?"
   ]
  },
  {
   "cell_type": "code",
   "execution_count": 42,
   "metadata": {
    "collapsed": true
   },
   "outputs": [],
   "source": [
    "# starts with 2 and >= 4 digits\n",
    "with_new_trains = data.where(lambda row: row['id'].startswith('2') and len(row['id']) > 3)"
   ]
  },
  {
   "cell_type": "code",
   "execution_count": 43,
   "metadata": {
    "collapsed": false
   },
   "outputs": [
    {
     "name": "stdout",
     "output_type": "stream",
     "text": [
      "There were 276 delays with new trains, or 32.06% of all delays in this data set\n"
     ]
    }
   ],
   "source": [
    "total_delays_new_trains = len(with_new_trains.rows)\n",
    "percent_new_trains = total_delays_new_trains / total_delays * 100\n",
    "print('There were %d delays with new trains, or %.2f%% of all delays in this data set' % (total_delays_new_trains, percent_new_trains))"
   ]
  },
  {
   "cell_type": "markdown",
   "metadata": {},
   "source": [
    "### What is the average delay?"
   ]
  },
  {
   "cell_type": "code",
   "execution_count": 44,
   "metadata": {
    "collapsed": false
   },
   "outputs": [
    {
     "name": "stdout",
     "output_type": "stream",
     "text": [
      "The median delay was 9 minutes\n"
     ]
    }
   ],
   "source": [
    "median_delay = data.aggregate(agate.Median('minutes'))\n",
    "print('The median delay was %d minutes' % median_delay)"
   ]
  },
  {
   "cell_type": "markdown",
   "metadata": {
    "collapsed": true
   },
   "source": [
    "### How many delays per day on average?"
   ]
  },
  {
   "cell_type": "code",
   "execution_count": 45,
   "metadata": {
    "collapsed": false
   },
   "outputs": [
    {
     "name": "stdout",
     "output_type": "stream",
     "text": [
      "On average there were 4 delays per day\n"
     ]
    }
   ],
   "source": [
    "counts_date = data.counts('date')\n",
    "delays_per_day = counts_date.aggregate(agate.Mean('count'))\n",
    "print('On average there were %d delays per day' % delays_per_day)"
   ]
  },
  {
   "cell_type": "markdown",
   "metadata": {
    "collapsed": true
   },
   "source": [
    "### How many days had a delay with a new train?"
   ]
  },
  {
   "cell_type": "code",
   "execution_count": 46,
   "metadata": {
    "collapsed": false
   },
   "outputs": [
    {
     "name": "stdout",
     "output_type": "stream",
     "text": [
      "113 days had a delay with a new train, or 64.94% of all days with a delay in this data set\n"
     ]
    }
   ],
   "source": [
    "days_with_new_train_delay = len(with_new_trains.distinct('date').rows)\n",
    "total_days = len(data.distinct('date').rows)\n",
    "percent_days = days_with_new_train_delay / total_days * 100\n",
    "print('%d days had a delay with a new train, or %.2f%% of all days with a delay in this data set' % (days_with_new_train_delay, percent_days))"
   ]
  }
 ],
 "metadata": {
  "kernelspec": {
   "display_name": "Python 3",
   "language": "python",
   "name": "python3"
  },
  "language_info": {
   "codemirror_mode": {
    "name": "ipython",
    "version": 3
   },
   "file_extension": ".py",
   "mimetype": "text/x-python",
   "name": "python",
   "nbconvert_exporter": "python",
   "pygments_lexer": "ipython3",
   "version": "3.5.1"
  }
 },
 "nbformat": 4,
 "nbformat_minor": 0
}
