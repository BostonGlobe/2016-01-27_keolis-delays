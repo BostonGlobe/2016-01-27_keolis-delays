{
 "cells": [
  {
   "cell_type": "markdown",
   "metadata": {},
   "source": [
    "# Keolis delays\n",
    "*Russell Goldenberg*\n",
    "\n",
    "On the format: each question is followed by the code that generates the answer. This is also known as [reproducible research](https://en.wikipedia.org/wiki/Reproducibility#Reproducible_research), a practice that’s slowly being adopted by newspapers (e.g. 538, The Upshot).\n"
   ]
  },
  {
   "cell_type": "code",
   "execution_count": 30,
   "metadata": {
    "collapsed": false
   },
   "outputs": [],
   "source": [
    "import re\n",
    "import os\n",
    "import agate"
   ]
  },
  {
   "cell_type": "code",
   "execution_count": 31,
   "metadata": {
    "collapsed": true
   },
   "outputs": [],
   "source": [
    "inputFile = os.getcwd() + '/delays.txt';\n",
    "lines = open(inputFile).readlines()"
   ]
  },
  {
   "cell_type": "code",
   "execution_count": 32,
   "metadata": {
    "collapsed": false
   },
   "outputs": [],
   "source": [
    "rows = []\n",
    "\n",
    "def check_missing(date, time):\n",
    "    missing = [('12/18/15', '10:37 am'), ('12/23/15', '5:58 am')]\n",
    "    for m in missing:\n",
    "        if date == m[0] and time == m[1]:\n",
    "            return True\n",
    "    \n",
    "    return False\n",
    "        \n",
    "def line_to_list(arr): \n",
    "    date = arr[0]\n",
    "    time = arr[1] + ' ' + arr[2]\n",
    "    id = arr[5]\n",
    "    minutes = arr[6]\n",
    "    \n",
    "    if check_missing(date, time):\n",
    "        id = arr[4]\n",
    "        minutes = arr[5]\n",
    "\n",
    "    return (date, time, date + ' ' + time, id, minutes)\n",
    "\n",
    "def is_valid_line(str):\n",
    "    has_date = re.search(r'(\\d+/\\d+/\\d+)', str)\n",
    "    has_time = re.search(r'(\\d+:\\d+)', str)\n",
    "    if has_date and has_time and has_date.start() == 0:\n",
    "        return True\n",
    "    else: \n",
    "        return False\n",
    "        \n",
    "for line in lines:\n",
    "    trim = line.strip()\n",
    "    split = re.split(' {1,}', trim)\n",
    "\n",
    "    if is_valid_line(trim) and len(split) > 2:\n",
    "        new_data = line_to_list(split)\n",
    "        rows.append(new_data)\n",
    "\n",
    "col_types = [agate.Text(), agate.Text(), agate.DateTime(), agate.Text(), agate.Number()]\n",
    "col_names = ['date', 'time', 'datetime', 'id', 'minutes']\n",
    "data = agate.Table(rows, column_names=col_names, column_types=col_types)"
   ]
  },
  {
   "cell_type": "code",
   "execution_count": 33,
   "metadata": {
    "collapsed": false
   },
   "outputs": [
    {
     "name": "stdout",
     "output_type": "stream",
     "text": [
      "Here is a sample of what the clean data looks like:\n",
      "|---------+----------+---------------------+------+----------|\n",
      "|  date   | time     |            datetime | id   | minutes  |\n",
      "|---------+----------+---------------------+------+----------|\n",
      "|  6/1/15 | 6:00 am  | 2015-06-01 06:00:00 | 2034 |      18  |\n",
      "|  6/1/15 | 7:20 am  | 2015-06-01 07:20:00 | 1059 |      34  |\n",
      "|  6/1/15 | 7:20 am  | 2015-06-01 07:20:00 | 1059 |      34  |\n",
      "|  6/1/15 | 8:40 am  | 2015-06-01 08:40:00 | 010  |      15  |\n",
      "|  6/1/15 | 10:39 am | 2015-06-01 10:39:00 | 2012 |      20  |\n",
      "|  ...    | ...      |                 ... | ...  |     ...  |\n",
      "|---------+----------+---------------------+------+----------|\n"
     ]
    }
   ],
   "source": [
    "print('Here is a sample of what the clean data looks like:')\n",
    "data.to_csv('test.csv')\n",
    "data.print_table(max_rows=5)"
   ]
  },
  {
   "cell_type": "code",
   "execution_count": 34,
   "metadata": {
    "collapsed": true
   },
   "outputs": [],
   "source": [
    "# helper functions\n",
    "def to_percent(n, d):\n",
    "    return str(round(n/d * 100, 1)) + '%'"
   ]
  },
  {
   "cell_type": "markdown",
   "metadata": {},
   "source": [
    "### How many delays involved new trains?"
   ]
  },
  {
   "cell_type": "code",
   "execution_count": 35,
   "metadata": {
    "collapsed": true
   },
   "outputs": [],
   "source": [
    "# starts with 2 and >= 4 digits\n",
    "with_new_trains = data.where(lambda row: row['id'].startswith('2') and len(row['id']) > 3)"
   ]
  },
  {
   "cell_type": "code",
   "execution_count": 36,
   "metadata": {
    "collapsed": false
   },
   "outputs": [],
   "source": [
    "total = len(data.rows)\n",
    "total_new_trains = len(with_new_trains.rows)\n",
    "percent_new_trains = to_percent(total_new_trains, total)"
   ]
  },
  {
   "cell_type": "code",
   "execution_count": 37,
   "metadata": {
    "collapsed": false
   },
   "outputs": [],
   "source": [
    "min_date = data.aggregate(agate.Min('datetime'))\n",
    "max_date = data.aggregate(agate.Max('datetime'))\n",
    "min_date_display= min_date.date()\n",
    "max_date_display= max_date.date()"
   ]
  },
  {
   "cell_type": "code",
   "execution_count": 38,
   "metadata": {
    "collapsed": false
   },
   "outputs": [
    {
     "name": "stdout",
     "output_type": "stream",
     "text": [
      "This data looks at delays from 2015-06-01 to 2015-12-31\n",
      "There were 961 total delays\n",
      "305 delays were with new trains\n",
      "31.7% of all delays involved new trains\n"
     ]
    }
   ],
   "source": [
    "print('This data looks at delays from %s to %s' % (min_date_display, max_date_display))\n",
    "print('There were %d total delays' % total)\n",
    "print('%d delays were with new trains' % total_new_trains)\n",
    "print('%s of all delays involved new trains' % percent_new_trains)"
   ]
  },
  {
   "cell_type": "markdown",
   "metadata": {},
   "source": [
    "### How many days had a delay with a new train?"
   ]
  },
  {
   "cell_type": "code",
   "execution_count": 39,
   "metadata": {
    "collapsed": true
   },
   "outputs": [],
   "source": [
    "total_days = len(data.distinct('date').rows)\n",
    "days_with_new_train = len(with_new_trains.distinct('date').rows)\n",
    "percent_days_new_train = to_percent(days_with_new_train, total_days)"
   ]
  },
  {
   "cell_type": "code",
   "execution_count": 40,
   "metadata": {
    "collapsed": false
   },
   "outputs": [
    {
     "name": "stdout",
     "output_type": "stream",
     "text": [
      "There were delays on 201 days\n",
      "On 130 of those days there was at least one delay involving a new train\n",
      "64.7% of all days with a delay involved a new train\n"
     ]
    }
   ],
   "source": [
    "print('There were delays on %d days' % total_days)\n",
    "print('On %d of those days there was at least one delay involving a new train' % days_with_new_train)\n",
    "print('%s of all days with a delay involved a new train' % percent_days_new_train)"
   ]
  },
  {
   "cell_type": "markdown",
   "metadata": {},
   "source": [
    "### How many new unique new trains had issues?"
   ]
  },
  {
   "cell_type": "code",
   "execution_count": 41,
   "metadata": {
    "collapsed": true
   },
   "outputs": [],
   "source": [
    "unique_new_trains = len(with_new_trains.distinct('id').rows)"
   ]
  },
  {
   "cell_type": "code",
   "execution_count": 42,
   "metadata": {
    "collapsed": false
   },
   "outputs": [
    {
     "name": "stdout",
     "output_type": "stream",
     "text": [
      "39 different new trains were involved in one or more delays\n"
     ]
    }
   ],
   "source": [
    "print('%d different new trains were involved in one or more delays' % unique_new_trains)"
   ]
  },
  {
   "cell_type": "markdown",
   "metadata": {},
   "source": [
    "### What is the average delay?"
   ]
  },
  {
   "cell_type": "code",
   "execution_count": 43,
   "metadata": {
    "collapsed": false
   },
   "outputs": [
    {
     "name": "stdout",
     "output_type": "stream",
     "text": [
      "The median delay was 9 minutes\n"
     ]
    }
   ],
   "source": [
    "median_delay = data.aggregate(agate.Median('minutes'))\n",
    "print('The median delay was %d minutes' % median_delay)"
   ]
  },
  {
   "cell_type": "markdown",
   "metadata": {
    "collapsed": true
   },
   "source": [
    "### How many delays per day on average?"
   ]
  },
  {
   "cell_type": "code",
   "execution_count": 44,
   "metadata": {
    "collapsed": false
   },
   "outputs": [
    {
     "name": "stdout",
     "output_type": "stream",
     "text": [
      "On average there were 4 delays per day\n"
     ]
    }
   ],
   "source": [
    "counts_date = data.counts('date')\n",
    "per_day = counts_date.aggregate(agate.Mean('count'))\n",
    "print('On average there were %d delays per day' % per_day)"
   ]
  },
  {
   "cell_type": "markdown",
   "metadata": {},
   "source": [
    "### What was December like?"
   ]
  },
  {
   "cell_type": "code",
   "execution_count": 50,
   "metadata": {
    "collapsed": false
   },
   "outputs": [],
   "source": [
    "with_dec = data.where(lambda row: row['datetime'].month == 12)\n",
    "with_dec_new_trains = with_new_trains.where(lambda row: row['datetime'].month == 12)\n",
    "total_dec = len(with_dec.rows)\n",
    "total_dec_new_trains = len(with_dec_new_trains.rows)\n",
    "percent_dec_new_trains = to_percent(total_dec_new_trains, total_dec)"
   ]
  },
  {
   "cell_type": "code",
   "execution_count": 51,
   "metadata": {
    "collapsed": false
   },
   "outputs": [
    {
     "name": "stdout",
     "output_type": "stream",
     "text": [
      "There were 105 total delays\n",
      "31 delays were with new trains\n",
      "29.5% of all delays involved new trains\n"
     ]
    }
   ],
   "source": [
    "print('There were %d total delays' % total_dec)\n",
    "print('%d delays were with new trains' % total_dec_new_trains)\n",
    "print('%s of all delays involved new trains' % percent_dec_new_trains)"
   ]
  }
 ],
 "metadata": {
  "kernelspec": {
   "display_name": "Python 3",
   "language": "python",
   "name": "python3"
  },
  "language_info": {
   "codemirror_mode": {
    "name": "ipython",
    "version": 3
   },
   "file_extension": ".py",
   "mimetype": "text/x-python",
   "name": "python",
   "nbconvert_exporter": "python",
   "pygments_lexer": "ipython3",
   "version": "3.5.1"
  }
 },
 "nbformat": 4,
 "nbformat_minor": 0
}
