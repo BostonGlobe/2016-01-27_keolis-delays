{
 "cells": [
  {
   "cell_type": "code",
   "execution_count": 50,
   "metadata": {
    "collapsed": true
   },
   "outputs": [],
   "source": [
    "import re\n",
    "import os\n",
    "import csv\n",
    "import agate"
   ]
  },
  {
   "cell_type": "code",
   "execution_count": 2,
   "metadata": {
    "collapsed": true
   },
   "outputs": [],
   "source": [
    "inputFile = os.getcwd() + '/delays.txt';\n",
    "lines = open(inputFile).readlines()"
   ]
  },
  {
   "cell_type": "code",
   "execution_count": 68,
   "metadata": {
    "collapsed": false
   },
   "outputs": [],
   "source": [
    "delays = []\n",
    "for line in lines:\n",
    "    trim = line.strip()\n",
    "    has_date = re.search(r'(\\d+/\\d+/\\d+)', trim)\n",
    "    has_time = re.search(r'(\\d+:\\d+)', trim)\n",
    "    split = re.split(' {1,}', trim)\n",
    "\n",
    "    if has_date and has_time and has_date.start() == 0 and len(split) > 2:\n",
    "        date = split[0]\n",
    "        time = split[1] + ' ' + split[2]\n",
    "        datetime = date + ' ' + time\n",
    "        id = split[5]\n",
    "        minutes = split[6]\n",
    "        delays.append((datetime, id, minutes))        \n",
    "\n",
    "data = agate.Table(delays, column_names=['datetime', 'id', 'minutes'], column_types=[agate.DateTime(), agate.Text(), agate.Number()])"
   ]
  },
  {
   "cell_type": "code",
   "execution_count": 70,
   "metadata": {
    "collapsed": false
   },
   "outputs": [
    {
     "name": "stdout",
     "output_type": "stream",
     "text": [
      "|----------------------+------+----------|\n",
      "|             datetime | id   | minutes  |\n",
      "|----------------------+------+----------|\n",
      "|  2015-06-01 06:00:00 | 2034 |      18  |\n",
      "|  2015-06-01 07:20:00 | 1059 |      34  |\n",
      "|  2015-06-01 07:20:00 | 1059 |      34  |\n",
      "|  2015-06-01 08:40:00 | 010  |      15  |\n",
      "|  2015-06-01 10:39:00 | 2012 |      20  |\n",
      "|                  ... | ...  |     ...  |\n",
      "|----------------------+------+----------|\n"
     ]
    }
   ],
   "source": [
    "data.print_table(max_rows=5)"
   ]
  },
  {
   "cell_type": "code",
   "execution_count": null,
   "metadata": {
    "collapsed": true
   },
   "outputs": [],
   "source": []
  }
 ],
 "metadata": {
  "kernelspec": {
   "display_name": "Python 3",
   "language": "python",
   "name": "python3"
  },
  "language_info": {
   "codemirror_mode": {
    "name": "ipython",
    "version": 3
   },
   "file_extension": ".py",
   "mimetype": "text/x-python",
   "name": "python",
   "nbconvert_exporter": "python",
   "pygments_lexer": "ipython3",
   "version": "3.5.1"
  }
 },
 "nbformat": 4,
 "nbformat_minor": 0
}
